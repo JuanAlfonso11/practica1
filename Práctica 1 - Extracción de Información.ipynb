{
 "cells": [
  {
   "cell_type": "markdown",
   "id": "d7e08f68",
   "metadata": {},
   "source": [
    "<div style=\"background:#5D6D7E;padding:20px;color:#ffffff;margin-top:10px;\">\n",
    "\n",
    "# NLP - Práctica 1 ( Extracción de Información) \n",
    "\n",
    "## Profesora: Lisibonny Beato\n",
    "### Período 3-2024-2025</div>\n"
   ]
  },
  {
   "cell_type": "code",
   "execution_count": 8,
   "id": "cebb0323",
   "metadata": {},
   "outputs": [],
   "source": [
    "# Importando algunas librerias\n",
    "\n",
    "import pandas as pd\n",
    "import re\n",
    "import spacy\n",
    "import textacy\n",
    "import glob\n",
    "import visualise_spacy_tree\n",
    "from spacy.matcher import Matcher \n",
    "import os\n",
    "import sys\n",
    "import en_core_web_trf\n",
    "import spacy_transformers\n",
    "import re\n",
    "import nltk\n",
    "\n",
    "#añadidas por el grupo\n",
    "import requests\n",
    "from sklearn.feature_extraction.text import TfidfVectorizer"
   ]
  },
  {
   "cell_type": "code",
   "execution_count": 9,
   "id": "66c305c2",
   "metadata": {},
   "outputs": [],
   "source": [
    "#pip install pandas"
   ]
  },
  {
   "cell_type": "code",
   "execution_count": 10,
   "id": "357caf5d",
   "metadata": {},
   "outputs": [],
   "source": [
    "#pip install spacy"
   ]
  },
  {
   "cell_type": "code",
   "execution_count": 11,
   "id": "2de7a2f6",
   "metadata": {},
   "outputs": [],
   "source": [
    "#pip install textacy"
   ]
  },
  {
   "cell_type": "code",
   "execution_count": 12,
   "id": "44ea953c",
   "metadata": {},
   "outputs": [],
   "source": [
    "#pip install visualise-spacy-tree"
   ]
  },
  {
   "cell_type": "code",
   "execution_count": 13,
   "id": "4d4dc017",
   "metadata": {},
   "outputs": [],
   "source": [
    "#pip install en-core-web-trf"
   ]
  },
  {
   "cell_type": "code",
   "execution_count": 14,
   "id": "e45215ee",
   "metadata": {},
   "outputs": [],
   "source": [
    "#pip install spacy-transformers"
   ]
  },
  {
   "cell_type": "code",
   "execution_count": 15,
   "id": "a9d90485",
   "metadata": {},
   "outputs": [],
   "source": [
    "#pip install nltk"
   ]
  },
  {
   "cell_type": "code",
   "execution_count": 16,
   "id": "260bff0c",
   "metadata": {},
   "outputs": [],
   "source": [
    "#pip install --upgrade numpy"
   ]
  },
  {
   "cell_type": "code",
   "execution_count": 17,
   "id": "98047317",
   "metadata": {},
   "outputs": [],
   "source": [
    "#pip install --upgrade h5py"
   ]
  },
  {
   "cell_type": "code",
   "execution_count": 18,
   "id": "3e8e5d48",
   "metadata": {},
   "outputs": [],
   "source": [
    "#!python -m spacy download en_core_web_trf"
   ]
  },
  {
   "cell_type": "markdown",
   "id": "38cb051e",
   "metadata": {},
   "source": [
    "<div style=\"background:#ff6242;padding:20px;color:#ffffff;margin-top:10px;\">\n",
    "<b>Para esta práctica estarán utilizando el corpus MIT Restaurant Corpus, el cual encontrará en este enlace: <a href='https://sls.csail.mit.edu/downloads/restaurant/'>https://sls.csail.mit.edu/downloads/restaurant/</a>.<br /><br />Tome en cuenta que los archivos de train y test están en el formato bio.\n",
    "<br />\n",
    "<br />\n",
    "Aparte del código, debe proveer una interpretación para cada tarea y un análisis para cada resultado obtenido que así lo amerite.</b>\n",
    "</div>\n"
   ]
  },
  {
   "cell_type": "code",
   "execution_count": 26,
   "id": "30266457",
   "metadata": {},
   "outputs": [],
   "source": [
    "\n",
    "# Descargar archivo de entrenamiento\n",
    "url_train = \"https://sls.csail.mit.edu/downloads/restaurant/restauranttrain.bio\"\n",
    "response_train = requests.get(url_train)\n",
    "with open(\"restauranttrain.bio\", \"wb\") as f:\n",
    "    f.write(response_train.content)\n",
    "\n",
    "# Descargar archivo de prueba\n",
    "url_test = \"https://sls.csail.mit.edu/downloads/restaurant/restauranttest.bio\"\n",
    "response_test = requests.get(url_test)\n",
    "with open(\"restauranttest.bio\", \"wb\") as f:\n",
    "    f.write(response_test.content)\n"
   ]
  },
  {
   "cell_type": "markdown",
   "id": "e8ebd3b5",
   "metadata": {},
   "source": [
    "## 1. Nivel Básico \n",
    "### Puntuación máxima de la tarea: 5 puntos\n",
    "#### Limpieza y preparación de los datos, Extracción de palabras clave (KPE),  y reconocimiento de entidades relevantes (NER) con modelos heurísticos y pre-entrenados para  reconocer al menos 3 tipos de entidades."
   ]
  },
  {
   "cell_type": "markdown",
   "id": "ef4a6a7a",
   "metadata": {},
   "source": [
    "### Extraccion y limpiueza de los datos"
   ]
  },
  {
   "cell_type": "code",
   "execution_count": 27,
   "id": "ac2907f8",
   "metadata": {},
   "outputs": [],
   "source": [
    "def load_bio_data(filepath):\n",
    "    sentences = []\n",
    "    sentence = []\n",
    "    with open(filepath,'r',encoding=\"utf-8\") as file:\n",
    "        for line in file:\n",
    "            if line.strip() == \"\":\n",
    "                if sentence:\n",
    "                    sentences.append(sentence)\n",
    "                    sentence = []\n",
    "            else:\n",
    "                parts = line.strip().split()\n",
    "                if len(parts)>=2:\n",
    "                    word, tag = parts[0], parts[-1]\n",
    "                    sentence.append((word, tag))\n",
    "        if sentence:\n",
    "            sentences.append(sentence)\n",
    "    return sentences"
   ]
  },
  {
   "cell_type": "code",
   "execution_count": 28,
   "id": "ee5e8ad1",
   "metadata": {},
   "outputs": [],
   "source": [
    "train_data = load_bio_data(\"restauranttrain.bio\")\n",
    "test_data = load_bio_data(\"restauranttest.bio\")"
   ]
  },
  {
   "cell_type": "code",
   "execution_count": 29,
   "id": "c0833818",
   "metadata": {},
   "outputs": [],
   "source": [
    "train_sentences = [\" \".join([w for w, t in sent]) for sent in train_data]\n"
   ]
  },
  {
   "cell_type": "code",
   "execution_count": 30,
   "id": "c2635c39",
   "metadata": {},
   "outputs": [],
   "source": [
    "vectorizer = TfidfVectorizer(stop_words='english',max_features=20)\n",
    "X = vectorizer.fit_transform(train_sentences)\n",
    "keywords = vectorizer.get_feature_names_out()"
   ]
  },
  {
   "cell_type": "code",
   "execution_count": 31,
   "id": "4de1e573",
   "metadata": {},
   "outputs": [
    {
     "name": "stdout",
     "output_type": "stream",
     "text": [
      "Palabras clves:\n",
      "['amenity' 'cuisine' 'dish' 'hours' 'location' 'price' 'rating'\n",
      " 'restaurant_name']\n"
     ]
    }
   ],
   "source": [
    "print(\"Palabras clves:\")\n",
    "print(keywords)"
   ]
  },
  {
   "cell_type": "markdown",
   "id": "1f70b865",
   "metadata": {},
   "source": [
    "<div style=\"background:#FFFFE0;padding:20px;color:#000000;margin-top:10px;\">\n",
    "Utilice esta celda para colocar comentarios en el notebook, cuando lo estime necesario. Copiela varias veces donde considere.\n",
    "</div>"
   ]
  },
  {
   "cell_type": "markdown",
   "id": "36d2ba20",
   "metadata": {},
   "source": [
    "## 2. Nivel Intermedio \n",
    "### Puntuación máxima de la tarea: 2 puntos\n",
    "#### Entrenar un modelo propio de NER mediante el pipeline de Spacy"
   ]
  },
  {
   "cell_type": "code",
   "execution_count": null,
   "id": "44dc13eb",
   "metadata": {},
   "outputs": [],
   "source": []
  },
  {
   "cell_type": "markdown",
   "id": "9d803e21",
   "metadata": {},
   "source": [
    "## 3. Nivel Avanzado\n",
    "### Puntuación máxima de la tarea: 3 puntos\n",
    "#### Entrenar un modelo de NER mediante el uso de Conditional Random Fields. Recuerde ir más allá que donde llega el ejemplo al respecto provisto en clases."
   ]
  },
  {
   "cell_type": "code",
   "execution_count": null,
   "id": "d8e55c65",
   "metadata": {},
   "outputs": [],
   "source": []
  }
 ],
 "metadata": {
  "kernelspec": {
   "display_name": "Python 3",
   "language": "python",
   "name": "python3"
  },
  "language_info": {
   "codemirror_mode": {
    "name": "ipython",
    "version": 3
   },
   "file_extension": ".py",
   "mimetype": "text/x-python",
   "name": "python",
   "nbconvert_exporter": "python",
   "pygments_lexer": "ipython3",
   "version": "3.12.7"
  }
 },
 "nbformat": 4,
 "nbformat_minor": 5
}
